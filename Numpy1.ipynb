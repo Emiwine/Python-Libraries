{
 "cells": [
  {
   "cell_type": "markdown",
   "id": "80f8e8cf-fda8-4467-8629-f265ff3c0351",
   "metadata": {},
   "source": [
    "Numpy = numeric + python "
   ]
  },
  {
   "cell_type": "code",
   "execution_count": 1,
   "id": "4ec4bfe0-d672-4965-a86b-9ed6e7cc8ebf",
   "metadata": {},
   "outputs": [],
   "source": [
    "import numpy as np"
   ]
  },
  {
   "cell_type": "code",
   "execution_count": 2,
   "id": "851ee6bd-9aad-40f2-847a-73826382a728",
   "metadata": {},
   "outputs": [],
   "source": [
    "l = [1,2,3,4,5]"
   ]
  },
  {
   "cell_type": "code",
   "execution_count": 3,
   "id": "7ceb84fc-4173-4c55-b65f-712bc933dd3c",
   "metadata": {},
   "outputs": [],
   "source": [
    "ar = np.array(l)"
   ]
  },
  {
   "cell_type": "code",
   "execution_count": 4,
   "id": "f300ca33-9ddd-49b3-b200-2ca43c71280f",
   "metadata": {},
   "outputs": [
    {
     "data": {
      "text/plain": [
       "array([1, 2, 3, 4, 5])"
      ]
     },
     "execution_count": 4,
     "metadata": {},
     "output_type": "execute_result"
    }
   ],
   "source": [
    "ar  #it is one dimentional array beacuse of the single list []"
   ]
  },
  {
   "cell_type": "code",
   "execution_count": 5,
   "id": "e5340b61-4e04-46ba-80db-1b4b18214612",
   "metadata": {},
   "outputs": [
    {
     "data": {
      "text/plain": [
       "numpy.ndarray"
      ]
     },
     "execution_count": 5,
     "metadata": {},
     "output_type": "execute_result"
    }
   ],
   "source": [
    "type(ar)"
   ]
  },
  {
   "cell_type": "code",
   "execution_count": 6,
   "id": "5ffbfc1e-35c2-4b36-9124-689aaca94748",
   "metadata": {},
   "outputs": [
    {
     "data": {
      "text/plain": [
       "array([[1, 2],\n",
       "       [3, 4]])"
      ]
     },
     "execution_count": 6,
     "metadata": {},
     "output_type": "execute_result"
    }
   ],
   "source": [
    "np.array([[1,2],[3,4]]) #this is two dimentional arr"
   ]
  },
  {
   "cell_type": "code",
   "execution_count": 7,
   "id": "54d3d37b-e2f8-419d-aa7e-dc1f40531e38",
   "metadata": {},
   "outputs": [
    {
     "data": {
      "text/plain": [
       "array([1, 2, 3])"
      ]
     },
     "execution_count": 7,
     "metadata": {},
     "output_type": "execute_result"
    }
   ],
   "source": [
    "np.asarray([1,2,3])  #this is also convert the the list in the array"
   ]
  },
  {
   "cell_type": "code",
   "execution_count": 8,
   "id": "c3577294-84a3-44b1-85c6-20bbd7aa119d",
   "metadata": {},
   "outputs": [
    {
     "data": {
      "text/plain": [
       "array([2, 3, 4])"
      ]
     },
     "execution_count": 8,
     "metadata": {},
     "output_type": "execute_result"
    }
   ],
   "source": [
    "np.asanyarray([2,3,4]) #ans this method is also convert the list in the array"
   ]
  },
  {
   "cell_type": "code",
   "execution_count": 9,
   "id": "008aeeae-c47f-427b-9406-5ecae3d71711",
   "metadata": {},
   "outputs": [],
   "source": [
    "b = np.matrix(l)  #here it will automatically convert the 2 d array"
   ]
  },
  {
   "cell_type": "code",
   "execution_count": 10,
   "id": "62f906c9-355e-4bd8-88a0-9516826dc9fb",
   "metadata": {},
   "outputs": [
    {
     "data": {
      "text/plain": [
       "matrix([[1, 2, 3, 4, 5]])"
      ]
     },
     "execution_count": 10,
     "metadata": {},
     "output_type": "execute_result"
    }
   ],
   "source": [
    "b"
   ]
  },
  {
   "cell_type": "code",
   "execution_count": 11,
   "id": "aa341852-024f-40c4-a804-a092dbf43850",
   "metadata": {},
   "outputs": [],
   "source": [
    "a = np.array(l)"
   ]
  },
  {
   "cell_type": "code",
   "execution_count": 12,
   "id": "5d5858e1-4e64-432d-ab32-22545a84ae52",
   "metadata": {},
   "outputs": [
    {
     "data": {
      "text/plain": [
       "array([1, 2, 3, 4, 5])"
      ]
     },
     "execution_count": 12,
     "metadata": {},
     "output_type": "execute_result"
    }
   ],
   "source": [
    "a"
   ]
  },
  {
   "cell_type": "code",
   "execution_count": 13,
   "id": "d8b2b12f-4542-4700-9f04-678fee7e35df",
   "metadata": {},
   "outputs": [],
   "source": [
    "c = a"
   ]
  },
  {
   "cell_type": "code",
   "execution_count": 14,
   "id": "99d987a7-edf3-42a3-a674-6d529e86416e",
   "metadata": {},
   "outputs": [
    {
     "data": {
      "text/plain": [
       "array([1, 2, 3, 4, 5])"
      ]
     },
     "execution_count": 14,
     "metadata": {},
     "output_type": "execute_result"
    }
   ],
   "source": [
    "c"
   ]
  },
  {
   "cell_type": "code",
   "execution_count": 15,
   "id": "7f9147a8-8867-4ab8-ba2a-3be592c25aa6",
   "metadata": {},
   "outputs": [],
   "source": [
    "c[0] = 100"
   ]
  },
  {
   "cell_type": "code",
   "execution_count": 16,
   "id": "6f0dcc1f-2e5a-4592-9885-17ccc01a667a",
   "metadata": {},
   "outputs": [
    {
     "data": {
      "text/plain": [
       "array([100,   2,   3,   4,   5])"
      ]
     },
     "execution_count": 16,
     "metadata": {},
     "output_type": "execute_result"
    }
   ],
   "source": [
    "c"
   ]
  },
  {
   "cell_type": "code",
   "execution_count": 17,
   "id": "c3ba96d5-f348-46ee-82b6-e9eb67f4adc2",
   "metadata": {},
   "outputs": [
    {
     "data": {
      "text/plain": [
       "array([100,   2,   3,   4,   5])"
      ]
     },
     "execution_count": 17,
     "metadata": {},
     "output_type": "execute_result"
    }
   ],
   "source": [
    "a"
   ]
  },
  {
   "cell_type": "code",
   "execution_count": 18,
   "id": "c96c76bc-2cec-4983-b8a5-f37613d95a98",
   "metadata": {},
   "outputs": [],
   "source": [
    "d = np.copy(a)  #here we copy the array named a "
   ]
  },
  {
   "cell_type": "code",
   "execution_count": 19,
   "id": "1a14f7c4-4739-48c4-8800-22a31299a4f6",
   "metadata": {},
   "outputs": [
    {
     "data": {
      "text/plain": [
       "array([100,   2,   3,   4,   5])"
      ]
     },
     "execution_count": 19,
     "metadata": {},
     "output_type": "execute_result"
    }
   ],
   "source": [
    "d"
   ]
  },
  {
   "cell_type": "code",
   "execution_count": 20,
   "id": "c9aecaf9-729b-4fca-b6f5-5e1dd32d5eb3",
   "metadata": {},
   "outputs": [],
   "source": [
    "d[1] = 200"
   ]
  },
  {
   "cell_type": "code",
   "execution_count": 21,
   "id": "fe4624c1-54da-4ae3-a708-9084da6ea168",
   "metadata": {},
   "outputs": [
    {
     "data": {
      "text/plain": [
       "array([100, 200,   3,   4,   5])"
      ]
     },
     "execution_count": 21,
     "metadata": {},
     "output_type": "execute_result"
    }
   ],
   "source": [
    "d"
   ]
  },
  {
   "cell_type": "code",
   "execution_count": 22,
   "id": "1c96c93f-b0c0-461d-8f3c-9326bd11e67d",
   "metadata": {},
   "outputs": [
    {
     "data": {
      "text/plain": [
       "array([100,   2,   3,   4,   5])"
      ]
     },
     "execution_count": 22,
     "metadata": {},
     "output_type": "execute_result"
    }
   ],
   "source": [
    "a"
   ]
  },
  {
   "cell_type": "code",
   "execution_count": 23,
   "id": "fe9ad1c7-84a3-469b-9dbe-35806d9431b7",
   "metadata": {},
   "outputs": [
    {
     "data": {
      "text/plain": [
       "array([[ True, False, False],\n",
       "       [False,  True, False],\n",
       "       [False, False,  True]])"
      ]
     },
     "execution_count": 23,
     "metadata": {},
     "output_type": "execute_result"
    }
   ],
   "source": [
    "np.fromfunction(lambda i,j : i==j ,(3,3)) #form function is used to generating and producing the array in any point of the time "
   ]
  },
  {
   "cell_type": "code",
   "execution_count": 24,
   "id": "b885f3e1-b537-46c8-91b6-a66c5399ccb2",
   "metadata": {},
   "outputs": [
    {
     "data": {
      "text/plain": [
       "array([[0., 0., 0.],\n",
       "       [0., 1., 2.],\n",
       "       [0., 2., 4.]])"
      ]
     },
     "execution_count": 24,
     "metadata": {},
     "output_type": "execute_result"
    }
   ],
   "source": [
    "np.fromfunction(lambda i,j : i*j ,(3,3))"
   ]
  },
  {
   "cell_type": "code",
   "execution_count": 25,
   "id": "fbf5b831-f742-461f-89ac-dc356ff69da3",
   "metadata": {},
   "outputs": [],
   "source": [
    "iterable = (i*i for i in range(5))"
   ]
  },
  {
   "cell_type": "code",
   "execution_count": 26,
   "id": "2305e823-20b6-4b2d-b3ee-f2942e4c7bca",
   "metadata": {},
   "outputs": [
    {
     "data": {
      "text/plain": [
       "array([ 0.,  1.,  4.,  9., 16.])"
      ]
     },
     "execution_count": 26,
     "metadata": {},
     "output_type": "execute_result"
    }
   ],
   "source": [
    "np.fromiter(iterable , float )"
   ]
  },
  {
   "cell_type": "code",
   "execution_count": 27,
   "id": "514de0b4-9c37-40b3-979f-ec6e5dedfebc",
   "metadata": {},
   "outputs": [
    {
     "data": {
      "text/plain": [
       "array([234., 264.])"
      ]
     },
     "execution_count": 27,
     "metadata": {},
     "output_type": "execute_result"
    }
   ],
   "source": [
    "np.fromstring('234 264' , sep =' ')"
   ]
  },
  {
   "cell_type": "code",
   "execution_count": 28,
   "id": "21120c54-b1dc-42ce-b3da-70b1d09f9f81",
   "metadata": {},
   "outputs": [
    {
     "data": {
      "text/plain": [
       "array([4., 5.])"
      ]
     },
     "execution_count": 28,
     "metadata": {},
     "output_type": "execute_result"
    }
   ],
   "source": [
    "np.fromstring('4,5' , sep =' , ')"
   ]
  },
  {
   "cell_type": "markdown",
   "id": "cf121c95-91f6-4ac3-a0c4-4a955bd3e0ce",
   "metadata": {},
   "source": [
    "NUMPY - DATATYPE"
   ]
  },
  {
   "cell_type": "code",
   "execution_count": 34,
   "id": "b0f91739-42e1-4240-977c-56c9c3610156",
   "metadata": {},
   "outputs": [],
   "source": [
    "import numpy as np\n",
    "l1 = [2,3,4,5,6]"
   ]
  },
  {
   "cell_type": "code",
   "execution_count": 35,
   "id": "292e23a5-2b7c-4957-bb4f-5c72c81d2567",
   "metadata": {},
   "outputs": [],
   "source": [
    "ar = np.array(l1)"
   ]
  },
  {
   "cell_type": "raw",
   "id": "433b7225-aa47-40fb-86c0-102103033c76",
   "metadata": {},
   "source": [
    "print(ar)"
   ]
  },
  {
   "cell_type": "code",
   "execution_count": 37,
   "id": "7cd891a5-e0e0-4f71-8fd7-d74a6467252b",
   "metadata": {},
   "outputs": [
    {
     "data": {
      "text/plain": [
       "1"
      ]
     },
     "execution_count": 37,
     "metadata": {},
     "output_type": "execute_result"
    }
   ],
   "source": [
    "ar.ndim  #if you want to check the dimension of the array then you have to use ndim"
   ]
  },
  {
   "cell_type": "code",
   "execution_count": 39,
   "id": "455af846-39d2-4f3e-8ddf-84cae994de1a",
   "metadata": {},
   "outputs": [],
   "source": [
    "ar2 = np.array([[1,2,3,4,5] , [6,7,8,9,10]])"
   ]
  },
  {
   "cell_type": "code",
   "execution_count": 40,
   "id": "d32be1a8-e55c-46cc-8704-39119d3f7842",
   "metadata": {},
   "outputs": [
    {
     "data": {
      "text/plain": [
       "array([[ 1,  2,  3,  4,  5],\n",
       "       [ 6,  7,  8,  9, 10]])"
      ]
     },
     "execution_count": 40,
     "metadata": {},
     "output_type": "execute_result"
    }
   ],
   "source": [
    "ar2"
   ]
  },
  {
   "cell_type": "code",
   "execution_count": 43,
   "id": "1d58cb3b-40e3-427c-8c0b-99dc0c3008e1",
   "metadata": {},
   "outputs": [
    {
     "data": {
      "text/plain": [
       "2"
      ]
     },
     "execution_count": 43,
     "metadata": {},
     "output_type": "execute_result"
    }
   ],
   "source": [
    "ar2.ndim  #ar2 is 2 dimension array"
   ]
  },
  {
   "cell_type": "code",
   "execution_count": 45,
   "id": "6273e40a-5bac-422e-814a-4ba3ae925f67",
   "metadata": {},
   "outputs": [
    {
     "data": {
      "text/plain": [
       "5"
      ]
     },
     "execution_count": 45,
     "metadata": {},
     "output_type": "execute_result"
    }
   ],
   "source": [
    "ar.size"
   ]
  },
  {
   "cell_type": "code",
   "execution_count": 46,
   "id": "0bd645dd-1977-4106-ac10-da7b51c2e1a6",
   "metadata": {},
   "outputs": [
    {
     "data": {
      "text/plain": [
       "10"
      ]
     },
     "execution_count": 46,
     "metadata": {},
     "output_type": "execute_result"
    }
   ],
   "source": [
    "ar2.size"
   ]
  },
  {
   "cell_type": "code",
   "execution_count": 47,
   "id": "bec638af-014c-4e4a-bf71-628f60984243",
   "metadata": {},
   "outputs": [
    {
     "data": {
      "text/plain": [
       "(5,)"
      ]
     },
     "execution_count": 47,
     "metadata": {},
     "output_type": "execute_result"
    }
   ],
   "source": [
    "ar.shape"
   ]
  },
  {
   "cell_type": "code",
   "execution_count": 48,
   "id": "01fc2b1d-aa01-444f-bc67-7a74edeea53c",
   "metadata": {},
   "outputs": [
    {
     "data": {
      "text/plain": [
       "(2, 5)"
      ]
     },
     "execution_count": 48,
     "metadata": {},
     "output_type": "execute_result"
    }
   ],
   "source": [
    "ar2.shape"
   ]
  },
  {
   "cell_type": "code",
   "execution_count": 49,
   "id": "75b0858a-cbbe-4ba7-9203-b05bdb0326cb",
   "metadata": {},
   "outputs": [
    {
     "data": {
      "text/plain": [
       "dtype('int32')"
      ]
     },
     "execution_count": 49,
     "metadata": {},
     "output_type": "execute_result"
    }
   ],
   "source": [
    "ar.dtype"
   ]
  },
  {
   "cell_type": "code",
   "execution_count": 51,
   "id": "137ad29d-8084-4c5a-8cdf-77313bf41345",
   "metadata": {},
   "outputs": [],
   "source": [
    "ar22 = np.array([(1.2,45,45) , (2,48,33)])"
   ]
  },
  {
   "cell_type": "code",
   "execution_count": 52,
   "id": "ed175887-311f-46cc-a221-476e71b4bad1",
   "metadata": {},
   "outputs": [
    {
     "data": {
      "text/plain": [
       "array([[ 1.2, 45. , 45. ],\n",
       "       [ 2. , 48. , 33. ]])"
      ]
     },
     "execution_count": 52,
     "metadata": {},
     "output_type": "execute_result"
    }
   ],
   "source": [
    "ar22"
   ]
  },
  {
   "cell_type": "code",
   "execution_count": 54,
   "id": "589bc348-f859-4dbf-afbc-a47100dd481b",
   "metadata": {},
   "outputs": [
    {
     "data": {
      "text/plain": [
       "dtype('float64')"
      ]
     },
     "execution_count": 54,
     "metadata": {},
     "output_type": "execute_result"
    }
   ],
   "source": [
    "ar22.dtype"
   ]
  },
  {
   "cell_type": "code",
   "execution_count": 56,
   "id": "7da2fb0a-1651-47eb-85d6-0f7fa71a9dd2",
   "metadata": {},
   "outputs": [
    {
     "data": {
      "text/plain": [
       "[0, 1, 2, 3, 4]"
      ]
     },
     "execution_count": 56,
     "metadata": {},
     "output_type": "execute_result"
    }
   ],
   "source": [
    "list(range(5))"
   ]
  },
  {
   "cell_type": "code",
   "execution_count": 57,
   "id": "0da89fe1-b9d2-4242-a8cf-652b6a03fa9e",
   "metadata": {},
   "outputs": [
    {
     "data": {
      "text/plain": [
       "array([2.3, 3.3, 4.3, 5.3])"
      ]
     },
     "execution_count": 57,
     "metadata": {},
     "output_type": "execute_result"
    }
   ],
   "source": [
    "np.arange(2.3,5.6)"
   ]
  },
  {
   "cell_type": "code",
   "execution_count": 59,
   "id": "c568f025-d1be-4e20-94bb-819fcd90de02",
   "metadata": {},
   "outputs": [
    {
     "data": {
      "text/plain": [
       "array([2.3, 2.6, 2.9, 3.2, 3.5, 3.8, 4.1, 4.4, 4.7, 5. , 5.3])"
      ]
     },
     "execution_count": 59,
     "metadata": {},
     "output_type": "execute_result"
    }
   ],
   "source": [
    "np.arange(2.3,5.6,.3) #here the data is jumping by 3 points "
   ]
  },
  {
   "cell_type": "code",
   "execution_count": 60,
   "id": "7d9204c8-cf46-4521-a3be-b2137475d112",
   "metadata": {},
   "outputs": [
    {
     "data": {
      "text/plain": [
       "[2.3,\n",
       " 2.5999999999999996,\n",
       " 2.8999999999999995,\n",
       " 3.1999999999999993,\n",
       " 3.499999999999999,\n",
       " 3.799999999999999,\n",
       " 4.099999999999999,\n",
       " 4.399999999999999,\n",
       " 4.699999999999998,\n",
       " 4.999999999999998,\n",
       " 5.299999999999998]"
      ]
     },
     "execution_count": 60,
     "metadata": {},
     "output_type": "execute_result"
    }
   ],
   "source": [
    "list(np.arange(2.3,5.6,.3))"
   ]
  },
  {
   "cell_type": "code",
   "execution_count": 62,
   "id": "09b2ccf5-63c0-4755-aecf-bf44d607d125",
   "metadata": {},
   "outputs": [
    {
     "data": {
      "text/plain": [
       "array([1.        , 1.44444444, 1.88888889, 2.33333333, 2.77777778,\n",
       "       3.22222222, 3.66666667, 4.11111111, 4.55555556, 5.        ])"
      ]
     },
     "execution_count": 62,
     "metadata": {},
     "output_type": "execute_result"
    }
   ],
   "source": [
    "np.linspace(1,5,10) #it is basically used to generate the number between the range "
   ]
  },
  {
   "cell_type": "code",
   "execution_count": 65,
   "id": "b633490f-10d2-4a7e-9edc-50f881547216",
   "metadata": {},
   "outputs": [
    {
     "data": {
      "text/plain": [
       "array([0., 0., 0., 0., 0.])"
      ]
     },
     "execution_count": 65,
     "metadata": {},
     "output_type": "execute_result"
    }
   ],
   "source": [
    "np.zeros(5) #here all the data becomes 0"
   ]
  },
  {
   "cell_type": "code",
   "execution_count": 64,
   "id": "15f86b6e-e66a-44f0-9502-d99e358a91da",
   "metadata": {},
   "outputs": [
    {
     "data": {
      "text/plain": [
       "array([[0., 0., 0., 0.],\n",
       "       [0., 0., 0., 0.],\n",
       "       [0., 0., 0., 0.]])"
      ]
     },
     "execution_count": 64,
     "metadata": {},
     "output_type": "execute_result"
    }
   ],
   "source": [
    "np.zeros((3,4)) "
   ]
  },
  {
   "cell_type": "code",
   "execution_count": 70,
   "id": "4ec8f934-1b16-4e09-b628-57872ba6171c",
   "metadata": {},
   "outputs": [],
   "source": [
    "zr = np.zeros((3,4,2)) #if we want to represent the array in 3d form then have to do this"
   ]
  },
  {
   "cell_type": "code",
   "execution_count": 71,
   "id": "a9198985-c262-48b7-89c7-c8290befc20f",
   "metadata": {},
   "outputs": [
    {
     "data": {
      "text/plain": [
       "array([[[0., 0.],\n",
       "        [0., 0.],\n",
       "        [0., 0.],\n",
       "        [0., 0.]],\n",
       "\n",
       "       [[0., 0.],\n",
       "        [0., 0.],\n",
       "        [0., 0.],\n",
       "        [0., 0.]],\n",
       "\n",
       "       [[0., 0.],\n",
       "        [0., 0.],\n",
       "        [0., 0.],\n",
       "        [0., 0.]]])"
      ]
     },
     "execution_count": 71,
     "metadata": {},
     "output_type": "execute_result"
    }
   ],
   "source": [
    "zr"
   ]
  },
  {
   "cell_type": "code",
   "execution_count": 69,
   "id": "de61340c-febb-4fb0-96df-baefeb62df1b",
   "metadata": {},
   "outputs": [
    {
     "data": {
      "text/plain": [
       "3"
      ]
     },
     "execution_count": 69,
     "metadata": {},
     "output_type": "execute_result"
    }
   ],
   "source": [
    "zr.ndim"
   ]
  },
  {
   "cell_type": "code",
   "execution_count": 73,
   "id": "df2cbbd0-5a7a-45d3-84f7-db54ed4af86e",
   "metadata": {},
   "outputs": [
    {
     "data": {
      "text/plain": [
       "array([1., 1., 1., 1.])"
      ]
     },
     "execution_count": 73,
     "metadata": {},
     "output_type": "execute_result"
    }
   ],
   "source": [
    "np.ones(4)"
   ]
  },
  {
   "cell_type": "code",
   "execution_count": 77,
   "id": "9a132f9d-1b8a-4c2f-b72c-2ce7484fc44b",
   "metadata": {},
   "outputs": [],
   "source": [
    "on = np.ones((3,2,2))"
   ]
  },
  {
   "cell_type": "code",
   "execution_count": 78,
   "id": "d6c0f22b-9e40-4b34-9af6-660cb5bef212",
   "metadata": {},
   "outputs": [
    {
     "data": {
      "text/plain": [
       "array([[[1., 1.],\n",
       "        [1., 1.]],\n",
       "\n",
       "       [[1., 1.],\n",
       "        [1., 1.]],\n",
       "\n",
       "       [[1., 1.],\n",
       "        [1., 1.]]])"
      ]
     },
     "execution_count": 78,
     "metadata": {},
     "output_type": "execute_result"
    }
   ],
   "source": [
    "on"
   ]
  },
  {
   "cell_type": "code",
   "execution_count": 79,
   "id": "4b66a4f7-e788-4513-ac37-86fe8845f035",
   "metadata": {},
   "outputs": [
    {
     "data": {
      "text/plain": [
       "array([[[6., 6.],\n",
       "        [6., 6.]],\n",
       "\n",
       "       [[6., 6.],\n",
       "        [6., 6.]],\n",
       "\n",
       "       [[6., 6.],\n",
       "        [6., 6.]]])"
      ]
     },
     "execution_count": 79,
     "metadata": {},
     "output_type": "execute_result"
    }
   ],
   "source": [
    "on + 5"
   ]
  },
  {
   "cell_type": "code",
   "execution_count": 80,
   "id": "7eb13919-a9c0-4f00-b802-27ea2bdc247d",
   "metadata": {},
   "outputs": [
    {
     "data": {
      "text/plain": [
       "array([[[6., 6.],\n",
       "        [6., 6.]],\n",
       "\n",
       "       [[6., 6.],\n",
       "        [6., 6.]],\n",
       "\n",
       "       [[6., 6.],\n",
       "        [6., 6.]]])"
      ]
     },
     "execution_count": 80,
     "metadata": {},
     "output_type": "execute_result"
    }
   ],
   "source": [
    "on * 6"
   ]
  },
  {
   "cell_type": "code",
   "execution_count": 82,
   "id": "d5491309-3ccd-4d3e-8e10-414a88fad976",
   "metadata": {},
   "outputs": [
    {
     "data": {
      "text/plain": [
       "array([[0., 0., 0., 0., 0.],\n",
       "       [0., 0., 0., 0., 0.],\n",
       "       [0., 0., 0., 0., 0.]])"
      ]
     },
     "execution_count": 82,
     "metadata": {},
     "output_type": "execute_result"
    }
   ],
   "source": [
    "np.empty((3,5))"
   ]
  },
  {
   "cell_type": "code",
   "execution_count": 84,
   "id": "027c4bff-097c-4b03-a7d7-9de4a91c97d5",
   "metadata": {},
   "outputs": [
    {
     "data": {
      "text/plain": [
       "array([[1., 0., 0., 0.],\n",
       "       [0., 1., 0., 0.],\n",
       "       [0., 0., 1., 0.],\n",
       "       [0., 0., 0., 1.]])"
      ]
     },
     "execution_count": 84,
     "metadata": {},
     "output_type": "execute_result"
    }
   ],
   "source": [
    "np.eye(4) #eye is identity matrix here the data show in the digonally "
   ]
  },
  {
   "cell_type": "code",
   "execution_count": 85,
   "id": "359902e8-7954-4b70-836d-01a896f88c4c",
   "metadata": {},
   "outputs": [
    {
     "data": {
      "text/plain": [
       "array([   100.        ,    215.443469  ,    464.15888336,   1000.        ,\n",
       "         2154.43469003,   4641.58883361,  10000.        ,  21544.34690032,\n",
       "        46415.88833613, 100000.        ])"
      ]
     },
     "execution_count": 85,
     "metadata": {},
     "output_type": "execute_result"
    }
   ],
   "source": [
    "np.logspace(2,5,10)"
   ]
  },
  {
   "cell_type": "code",
   "execution_count": 86,
   "id": "d0cb326c-6a20-47e9-aeaa-9fc84c498674",
   "metadata": {},
   "outputs": [
    {
     "data": {
      "text/plain": [
       "array([ 4.        ,  5.0396842 ,  6.34960421,  8.        , 10.0793684 ,\n",
       "       12.69920842, 16.        , 20.1587368 , 25.39841683, 32.        ])"
      ]
     },
     "execution_count": 86,
     "metadata": {},
     "output_type": "execute_result"
    }
   ],
   "source": [
    "np.logspace(2,5,10 , base = 2)"
   ]
  },
  {
   "cell_type": "code",
   "execution_count": 92,
   "id": "25e993d3-870d-4d25-a477-4d5a89828aa8",
   "metadata": {},
   "outputs": [],
   "source": [
    "#Random function is used to produce the random number \n",
    "arr = np.random.randn(3,4) #Want to produce the random data then use random function\n",
    "#the randn function is used to generate the data which has mean = 0 & standard deviation = 1"
   ]
  },
  {
   "cell_type": "code",
   "execution_count": 93,
   "id": "8439d1ff-b99c-4574-9c93-16360bd7f760",
   "metadata": {},
   "outputs": [],
   "source": [
    "import pandas as pd"
   ]
  },
  {
   "cell_type": "code",
   "execution_count": 94,
   "id": "41e02511-d86c-4c77-bc0c-091d1816f195",
   "metadata": {},
   "outputs": [
    {
     "data": {
      "text/html": [
       "<div>\n",
       "<style scoped>\n",
       "    .dataframe tbody tr th:only-of-type {\n",
       "        vertical-align: middle;\n",
       "    }\n",
       "\n",
       "    .dataframe tbody tr th {\n",
       "        vertical-align: top;\n",
       "    }\n",
       "\n",
       "    .dataframe thead th {\n",
       "        text-align: right;\n",
       "    }\n",
       "</style>\n",
       "<table border=\"1\" class=\"dataframe\">\n",
       "  <thead>\n",
       "    <tr style=\"text-align: right;\">\n",
       "      <th></th>\n",
       "      <th>0</th>\n",
       "      <th>1</th>\n",
       "      <th>2</th>\n",
       "      <th>3</th>\n",
       "    </tr>\n",
       "  </thead>\n",
       "  <tbody>\n",
       "    <tr>\n",
       "      <th>0</th>\n",
       "      <td>-1.059912</td>\n",
       "      <td>1.996295</td>\n",
       "      <td>-0.540389</td>\n",
       "      <td>-0.032656</td>\n",
       "    </tr>\n",
       "    <tr>\n",
       "      <th>1</th>\n",
       "      <td>0.447253</td>\n",
       "      <td>-1.217813</td>\n",
       "      <td>-1.207470</td>\n",
       "      <td>-2.269472</td>\n",
       "    </tr>\n",
       "    <tr>\n",
       "      <th>2</th>\n",
       "      <td>-0.121771</td>\n",
       "      <td>0.101327</td>\n",
       "      <td>-0.578704</td>\n",
       "      <td>-0.801307</td>\n",
       "    </tr>\n",
       "  </tbody>\n",
       "</table>\n",
       "</div>"
      ],
      "text/plain": [
       "          0         1         2         3\n",
       "0 -1.059912  1.996295 -0.540389 -0.032656\n",
       "1  0.447253 -1.217813 -1.207470 -2.269472\n",
       "2 -0.121771  0.101327 -0.578704 -0.801307"
      ]
     },
     "execution_count": 94,
     "metadata": {},
     "output_type": "execute_result"
    }
   ],
   "source": [
    "pd.DataFrame(arr) #here we create the data frame using the numpy array\n"
   ]
  },
  {
   "cell_type": "code",
   "execution_count": 95,
   "id": "6532105b-16d5-4e0b-a62f-f429e5f81251",
   "metadata": {},
   "outputs": [
    {
     "data": {
      "text/plain": [
       "array([[0.2047513 , 0.33912407, 0.85716183, 0.37905386],\n",
       "       [0.55669964, 0.89023154, 0.65235068, 0.33154084],\n",
       "       [0.77874691, 0.2706345 , 0.21496877, 0.05736887]])"
      ]
     },
     "execution_count": 95,
     "metadata": {},
     "output_type": "execute_result"
    }
   ],
   "source": [
    "np.random.rand(3,4)"
   ]
  },
  {
   "cell_type": "code",
   "execution_count": 96,
   "id": "09994fe6-7606-4dac-bb43-e2b0aa32905a",
   "metadata": {},
   "outputs": [
    {
     "data": {
      "text/plain": [
       "array([[ 86,  77,  21,   7],\n",
       "       [ 76,  68,  27, 100],\n",
       "       [ 70,  92, 105,  75]])"
      ]
     },
     "execution_count": 96,
     "metadata": {},
     "output_type": "execute_result"
    }
   ],
   "source": [
    "np.random.randint(1,110,(3,4))"
   ]
  },
  {
   "cell_type": "code",
   "execution_count": 98,
   "id": "99990721-961c-42f7-a6ae-76ffbc159fa4",
   "metadata": {},
   "outputs": [
    {
     "data": {
      "text/html": [
       "<div>\n",
       "<style scoped>\n",
       "    .dataframe tbody tr th:only-of-type {\n",
       "        vertical-align: middle;\n",
       "    }\n",
       "\n",
       "    .dataframe tbody tr th {\n",
       "        vertical-align: top;\n",
       "    }\n",
       "\n",
       "    .dataframe thead th {\n",
       "        text-align: right;\n",
       "    }\n",
       "</style>\n",
       "<table border=\"1\" class=\"dataframe\">\n",
       "  <thead>\n",
       "    <tr style=\"text-align: right;\">\n",
       "      <th></th>\n",
       "      <th>0</th>\n",
       "      <th>1</th>\n",
       "      <th>2</th>\n",
       "      <th>3</th>\n",
       "      <th>4</th>\n",
       "      <th>5</th>\n",
       "      <th>6</th>\n",
       "      <th>7</th>\n",
       "      <th>8</th>\n",
       "      <th>9</th>\n",
       "      <th>...</th>\n",
       "      <th>390</th>\n",
       "      <th>391</th>\n",
       "      <th>392</th>\n",
       "      <th>393</th>\n",
       "      <th>394</th>\n",
       "      <th>395</th>\n",
       "      <th>396</th>\n",
       "      <th>397</th>\n",
       "      <th>398</th>\n",
       "      <th>399</th>\n",
       "    </tr>\n",
       "  </thead>\n",
       "  <tbody>\n",
       "    <tr>\n",
       "      <th>0</th>\n",
       "      <td>51</td>\n",
       "      <td>103</td>\n",
       "      <td>55</td>\n",
       "      <td>84</td>\n",
       "      <td>57</td>\n",
       "      <td>28</td>\n",
       "      <td>18</td>\n",
       "      <td>2</td>\n",
       "      <td>18</td>\n",
       "      <td>108</td>\n",
       "      <td>...</td>\n",
       "      <td>80</td>\n",
       "      <td>61</td>\n",
       "      <td>14</td>\n",
       "      <td>86</td>\n",
       "      <td>2</td>\n",
       "      <td>29</td>\n",
       "      <td>102</td>\n",
       "      <td>4</td>\n",
       "      <td>32</td>\n",
       "      <td>14</td>\n",
       "    </tr>\n",
       "    <tr>\n",
       "      <th>1</th>\n",
       "      <td>68</td>\n",
       "      <td>48</td>\n",
       "      <td>68</td>\n",
       "      <td>20</td>\n",
       "      <td>1</td>\n",
       "      <td>34</td>\n",
       "      <td>85</td>\n",
       "      <td>100</td>\n",
       "      <td>54</td>\n",
       "      <td>107</td>\n",
       "      <td>...</td>\n",
       "      <td>9</td>\n",
       "      <td>94</td>\n",
       "      <td>92</td>\n",
       "      <td>40</td>\n",
       "      <td>63</td>\n",
       "      <td>15</td>\n",
       "      <td>50</td>\n",
       "      <td>62</td>\n",
       "      <td>74</td>\n",
       "      <td>39</td>\n",
       "    </tr>\n",
       "    <tr>\n",
       "      <th>2</th>\n",
       "      <td>97</td>\n",
       "      <td>107</td>\n",
       "      <td>67</td>\n",
       "      <td>53</td>\n",
       "      <td>19</td>\n",
       "      <td>46</td>\n",
       "      <td>80</td>\n",
       "      <td>41</td>\n",
       "      <td>26</td>\n",
       "      <td>48</td>\n",
       "      <td>...</td>\n",
       "      <td>102</td>\n",
       "      <td>47</td>\n",
       "      <td>23</td>\n",
       "      <td>50</td>\n",
       "      <td>37</td>\n",
       "      <td>31</td>\n",
       "      <td>73</td>\n",
       "      <td>50</td>\n",
       "      <td>25</td>\n",
       "      <td>73</td>\n",
       "    </tr>\n",
       "    <tr>\n",
       "      <th>3</th>\n",
       "      <td>22</td>\n",
       "      <td>57</td>\n",
       "      <td>5</td>\n",
       "      <td>85</td>\n",
       "      <td>3</td>\n",
       "      <td>32</td>\n",
       "      <td>18</td>\n",
       "      <td>47</td>\n",
       "      <td>57</td>\n",
       "      <td>91</td>\n",
       "      <td>...</td>\n",
       "      <td>42</td>\n",
       "      <td>42</td>\n",
       "      <td>76</td>\n",
       "      <td>6</td>\n",
       "      <td>75</td>\n",
       "      <td>53</td>\n",
       "      <td>108</td>\n",
       "      <td>44</td>\n",
       "      <td>81</td>\n",
       "      <td>37</td>\n",
       "    </tr>\n",
       "    <tr>\n",
       "      <th>4</th>\n",
       "      <td>21</td>\n",
       "      <td>105</td>\n",
       "      <td>78</td>\n",
       "      <td>107</td>\n",
       "      <td>62</td>\n",
       "      <td>56</td>\n",
       "      <td>67</td>\n",
       "      <td>4</td>\n",
       "      <td>44</td>\n",
       "      <td>92</td>\n",
       "      <td>...</td>\n",
       "      <td>109</td>\n",
       "      <td>63</td>\n",
       "      <td>101</td>\n",
       "      <td>48</td>\n",
       "      <td>93</td>\n",
       "      <td>106</td>\n",
       "      <td>40</td>\n",
       "      <td>81</td>\n",
       "      <td>1</td>\n",
       "      <td>55</td>\n",
       "    </tr>\n",
       "    <tr>\n",
       "      <th>...</th>\n",
       "      <td>...</td>\n",
       "      <td>...</td>\n",
       "      <td>...</td>\n",
       "      <td>...</td>\n",
       "      <td>...</td>\n",
       "      <td>...</td>\n",
       "      <td>...</td>\n",
       "      <td>...</td>\n",
       "      <td>...</td>\n",
       "      <td>...</td>\n",
       "      <td>...</td>\n",
       "      <td>...</td>\n",
       "      <td>...</td>\n",
       "      <td>...</td>\n",
       "      <td>...</td>\n",
       "      <td>...</td>\n",
       "      <td>...</td>\n",
       "      <td>...</td>\n",
       "      <td>...</td>\n",
       "      <td>...</td>\n",
       "      <td>...</td>\n",
       "    </tr>\n",
       "    <tr>\n",
       "      <th>295</th>\n",
       "      <td>29</td>\n",
       "      <td>60</td>\n",
       "      <td>57</td>\n",
       "      <td>59</td>\n",
       "      <td>31</td>\n",
       "      <td>27</td>\n",
       "      <td>100</td>\n",
       "      <td>95</td>\n",
       "      <td>90</td>\n",
       "      <td>55</td>\n",
       "      <td>...</td>\n",
       "      <td>95</td>\n",
       "      <td>35</td>\n",
       "      <td>77</td>\n",
       "      <td>97</td>\n",
       "      <td>68</td>\n",
       "      <td>76</td>\n",
       "      <td>78</td>\n",
       "      <td>101</td>\n",
       "      <td>43</td>\n",
       "      <td>23</td>\n",
       "    </tr>\n",
       "    <tr>\n",
       "      <th>296</th>\n",
       "      <td>98</td>\n",
       "      <td>37</td>\n",
       "      <td>14</td>\n",
       "      <td>74</td>\n",
       "      <td>59</td>\n",
       "      <td>84</td>\n",
       "      <td>84</td>\n",
       "      <td>82</td>\n",
       "      <td>5</td>\n",
       "      <td>63</td>\n",
       "      <td>...</td>\n",
       "      <td>74</td>\n",
       "      <td>58</td>\n",
       "      <td>53</td>\n",
       "      <td>76</td>\n",
       "      <td>21</td>\n",
       "      <td>57</td>\n",
       "      <td>104</td>\n",
       "      <td>43</td>\n",
       "      <td>18</td>\n",
       "      <td>108</td>\n",
       "    </tr>\n",
       "    <tr>\n",
       "      <th>297</th>\n",
       "      <td>40</td>\n",
       "      <td>23</td>\n",
       "      <td>84</td>\n",
       "      <td>73</td>\n",
       "      <td>72</td>\n",
       "      <td>61</td>\n",
       "      <td>6</td>\n",
       "      <td>27</td>\n",
       "      <td>80</td>\n",
       "      <td>99</td>\n",
       "      <td>...</td>\n",
       "      <td>36</td>\n",
       "      <td>8</td>\n",
       "      <td>50</td>\n",
       "      <td>15</td>\n",
       "      <td>106</td>\n",
       "      <td>32</td>\n",
       "      <td>6</td>\n",
       "      <td>75</td>\n",
       "      <td>107</td>\n",
       "      <td>96</td>\n",
       "    </tr>\n",
       "    <tr>\n",
       "      <th>298</th>\n",
       "      <td>68</td>\n",
       "      <td>63</td>\n",
       "      <td>81</td>\n",
       "      <td>65</td>\n",
       "      <td>91</td>\n",
       "      <td>74</td>\n",
       "      <td>40</td>\n",
       "      <td>73</td>\n",
       "      <td>70</td>\n",
       "      <td>62</td>\n",
       "      <td>...</td>\n",
       "      <td>79</td>\n",
       "      <td>26</td>\n",
       "      <td>80</td>\n",
       "      <td>89</td>\n",
       "      <td>75</td>\n",
       "      <td>7</td>\n",
       "      <td>48</td>\n",
       "      <td>64</td>\n",
       "      <td>87</td>\n",
       "      <td>92</td>\n",
       "    </tr>\n",
       "    <tr>\n",
       "      <th>299</th>\n",
       "      <td>49</td>\n",
       "      <td>80</td>\n",
       "      <td>68</td>\n",
       "      <td>51</td>\n",
       "      <td>16</td>\n",
       "      <td>90</td>\n",
       "      <td>8</td>\n",
       "      <td>55</td>\n",
       "      <td>9</td>\n",
       "      <td>47</td>\n",
       "      <td>...</td>\n",
       "      <td>27</td>\n",
       "      <td>28</td>\n",
       "      <td>1</td>\n",
       "      <td>75</td>\n",
       "      <td>81</td>\n",
       "      <td>14</td>\n",
       "      <td>20</td>\n",
       "      <td>96</td>\n",
       "      <td>78</td>\n",
       "      <td>35</td>\n",
       "    </tr>\n",
       "  </tbody>\n",
       "</table>\n",
       "<p>300 rows × 400 columns</p>\n",
       "</div>"
      ],
      "text/plain": [
       "     0    1    2    3    4    5    6    7    8    9    ...  390  391  392  \\\n",
       "0     51  103   55   84   57   28   18    2   18  108  ...   80   61   14   \n",
       "1     68   48   68   20    1   34   85  100   54  107  ...    9   94   92   \n",
       "2     97  107   67   53   19   46   80   41   26   48  ...  102   47   23   \n",
       "3     22   57    5   85    3   32   18   47   57   91  ...   42   42   76   \n",
       "4     21  105   78  107   62   56   67    4   44   92  ...  109   63  101   \n",
       "..   ...  ...  ...  ...  ...  ...  ...  ...  ...  ...  ...  ...  ...  ...   \n",
       "295   29   60   57   59   31   27  100   95   90   55  ...   95   35   77   \n",
       "296   98   37   14   74   59   84   84   82    5   63  ...   74   58   53   \n",
       "297   40   23   84   73   72   61    6   27   80   99  ...   36    8   50   \n",
       "298   68   63   81   65   91   74   40   73   70   62  ...   79   26   80   \n",
       "299   49   80   68   51   16   90    8   55    9   47  ...   27   28    1   \n",
       "\n",
       "     393  394  395  396  397  398  399  \n",
       "0     86    2   29  102    4   32   14  \n",
       "1     40   63   15   50   62   74   39  \n",
       "2     50   37   31   73   50   25   73  \n",
       "3      6   75   53  108   44   81   37  \n",
       "4     48   93  106   40   81    1   55  \n",
       "..   ...  ...  ...  ...  ...  ...  ...  \n",
       "295   97   68   76   78  101   43   23  \n",
       "296   76   21   57  104   43   18  108  \n",
       "297   15  106   32    6   75  107   96  \n",
       "298   89   75    7   48   64   87   92  \n",
       "299   75   81   14   20   96   78   35  \n",
       "\n",
       "[300 rows x 400 columns]"
      ]
     },
     "execution_count": 98,
     "metadata": {},
     "output_type": "execute_result"
    }
   ],
   "source": [
    "pd.DataFrame(np.random.randint(1,110 ,(300,400)))"
   ]
  },
  {
   "cell_type": "code",
   "execution_count": 99,
   "id": "afa32608-00ca-4d42-b94c-91691f6536ff",
   "metadata": {},
   "outputs": [],
   "source": [
    "#Convert this to csv file \n",
    "pd.DataFrame(np.random.randint(1,110 ,(300,400))).to_csv('test.csv')"
   ]
  },
  {
   "cell_type": "code",
   "execution_count": 112,
   "id": "682bc376-1343-44a9-8662-a46bbe0e2647",
   "metadata": {},
   "outputs": [],
   "source": [
    "arr = np.random.rand(3,4)"
   ]
  },
  {
   "cell_type": "code",
   "execution_count": 113,
   "id": "c5952f3a-5fd1-483b-ab00-020a54bd2bcc",
   "metadata": {},
   "outputs": [
    {
     "data": {
      "text/plain": [
       "array([[0.11293431, 0.88386536, 0.70013236, 0.86300863],\n",
       "       [0.21247238, 0.72950521, 0.58517399, 0.56325473],\n",
       "       [0.19801741, 0.59336157, 0.04023291, 0.31959086]])"
      ]
     },
     "execution_count": 113,
     "metadata": {},
     "output_type": "execute_result"
    }
   ],
   "source": [
    "arr"
   ]
  },
  {
   "cell_type": "code",
   "execution_count": 114,
   "id": "f1fcb1e4-a0d3-44cb-83e2-cdb91273fd18",
   "metadata": {},
   "outputs": [
    {
     "data": {
      "text/plain": [
       "array([[0.11293431, 0.88386536],\n",
       "       [0.70013236, 0.86300863],\n",
       "       [0.21247238, 0.72950521],\n",
       "       [0.58517399, 0.56325473],\n",
       "       [0.19801741, 0.59336157],\n",
       "       [0.04023291, 0.31959086]])"
      ]
     },
     "execution_count": 114,
     "metadata": {},
     "output_type": "execute_result"
    }
   ],
   "source": [
    "arr.reshape(6,2)"
   ]
  },
  {
   "cell_type": "code",
   "execution_count": 116,
   "id": "fbda5e3b-a5e9-41c6-80d8-1b5c59ad10df",
   "metadata": {},
   "outputs": [
    {
     "data": {
      "text/plain": [
       "array([[0.11293431, 0.88386536],\n",
       "       [0.70013236, 0.86300863],\n",
       "       [0.21247238, 0.72950521],\n",
       "       [0.58517399, 0.56325473],\n",
       "       [0.19801741, 0.59336157],\n",
       "       [0.04023291, 0.31959086]])"
      ]
     },
     "execution_count": 116,
     "metadata": {},
     "output_type": "execute_result"
    }
   ],
   "source": [
    "arr.reshape(6,-1)"
   ]
  },
  {
   "cell_type": "code",
   "execution_count": 117,
   "id": "4e41ad6c-5c68-4de0-8a64-363ad88d3748",
   "metadata": {},
   "outputs": [],
   "source": [
    "arr1 = arr.reshape(6,-1)"
   ]
  },
  {
   "cell_type": "code",
   "execution_count": 118,
   "id": "76d4226a-0c50-4f91-85ef-07746ea338f5",
   "metadata": {},
   "outputs": [
    {
     "data": {
      "text/plain": [
       "array([[0.11293431, 0.88386536],\n",
       "       [0.70013236, 0.86300863],\n",
       "       [0.21247238, 0.72950521],\n",
       "       [0.58517399, 0.56325473],\n",
       "       [0.19801741, 0.59336157],\n",
       "       [0.04023291, 0.31959086]])"
      ]
     },
     "execution_count": 118,
     "metadata": {},
     "output_type": "execute_result"
    }
   ],
   "source": [
    "arr1"
   ]
  },
  {
   "cell_type": "code",
   "execution_count": 121,
   "id": "9526480f-e3f7-4bfc-b98d-e5459625e266",
   "metadata": {},
   "outputs": [
    {
     "data": {
      "text/plain": [
       "0.86300862719405"
      ]
     },
     "execution_count": 121,
     "metadata": {},
     "output_type": "execute_result"
    }
   ],
   "source": [
    "arr1[1][1]"
   ]
  },
  {
   "cell_type": "code",
   "execution_count": 122,
   "id": "6ff26860-5944-4c66-b568-81def60fc30a",
   "metadata": {},
   "outputs": [
    {
     "data": {
      "text/plain": [
       "array([0.72950521, 0.56325473, 0.59336157])"
      ]
     },
     "execution_count": 122,
     "metadata": {},
     "output_type": "execute_result"
    }
   ],
   "source": [
    "arr1[2:5 , 1]"
   ]
  },
  {
   "cell_type": "code",
   "execution_count": 133,
   "id": "69f22d07-e198-49fc-8dba-2a28d0573ed6",
   "metadata": {},
   "outputs": [],
   "source": [
    "arr = np.random.randint(1,100 , (5,5))"
   ]
  },
  {
   "cell_type": "code",
   "execution_count": 134,
   "id": "425dca66-02be-4038-9f8c-d3f568e3ece4",
   "metadata": {},
   "outputs": [
    {
     "data": {
      "text/plain": [
       "array([[16, 45,  3, 78, 59],\n",
       "       [31, 55, 92, 72,  1],\n",
       "       [14, 66, 15, 65, 99],\n",
       "       [54, 84, 41, 56,  8],\n",
       "       [87,  1, 81, 46,  7]])"
      ]
     },
     "execution_count": 134,
     "metadata": {},
     "output_type": "execute_result"
    }
   ],
   "source": [
    "arr"
   ]
  },
  {
   "cell_type": "code",
   "execution_count": 135,
   "id": "f2059fbe-e6ef-4112-bdca-f726b083bba6",
   "metadata": {},
   "outputs": [
    {
     "data": {
      "text/plain": [
       "array([[False, False, False,  True,  True],\n",
       "       [False,  True,  True,  True, False],\n",
       "       [False,  True, False,  True,  True],\n",
       "       [ True,  True, False,  True, False],\n",
       "       [ True, False,  True, False, False]])"
      ]
     },
     "execution_count": 135,
     "metadata": {},
     "output_type": "execute_result"
    }
   ],
   "source": [
    "arr>50"
   ]
  },
  {
   "cell_type": "code",
   "execution_count": 136,
   "id": "26f00ded-a4b1-4434-a0a2-9b4e0611cfad",
   "metadata": {},
   "outputs": [
    {
     "data": {
      "text/plain": [
       "array([78, 59, 55, 92, 72, 66, 65, 99, 54, 84, 56, 87, 81])"
      ]
     },
     "execution_count": 136,
     "metadata": {},
     "output_type": "execute_result"
    }
   ],
   "source": [
    "arr[arr>50] #extracting the data which is greater then 50"
   ]
  },
  {
   "cell_type": "code",
   "execution_count": 137,
   "id": "395d16d3-7397-4bab-8ff8-2b724b629db2",
   "metadata": {},
   "outputs": [
    {
     "data": {
      "text/plain": [
       "array([[16, 45,  3, 78, 59],\n",
       "       [31, 55, 92, 72,  1],\n",
       "       [14, 66, 15, 65, 99],\n",
       "       [54, 84, 41, 56,  8],\n",
       "       [87,  1, 81, 46,  7]])"
      ]
     },
     "execution_count": 137,
     "metadata": {},
     "output_type": "execute_result"
    }
   ],
   "source": [
    " arr"
   ]
  },
  {
   "cell_type": "code",
   "execution_count": 140,
   "id": "2717e116-adb1-4e32-add0-2feb37f97dc4",
   "metadata": {},
   "outputs": [
    {
     "data": {
      "text/plain": [
       "array([[66, 15],\n",
       "       [84, 41]])"
      ]
     },
     "execution_count": 140,
     "metadata": {},
     "output_type": "execute_result"
    }
   ],
   "source": [
    "arr[2:4 , [1,2]]"
   ]
  },
  {
   "cell_type": "code",
   "execution_count": 144,
   "id": "fd0839f8-2d9d-4707-947f-0018e7cd8140",
   "metadata": {},
   "outputs": [],
   "source": [
    "arr1 = np.random.randint(1 ,10 ,(5,5))"
   ]
  },
  {
   "cell_type": "code",
   "execution_count": 145,
   "id": "ed05d0b7-b49b-4cee-a2c6-f5f212fba5f4",
   "metadata": {},
   "outputs": [
    {
     "data": {
      "text/plain": [
       "array([[2, 2, 8, 5, 8],\n",
       "       [6, 6, 8, 1, 9],\n",
       "       [4, 3, 3, 4, 2],\n",
       "       [9, 2, 6, 2, 8],\n",
       "       [6, 7, 7, 3, 4]])"
      ]
     },
     "execution_count": 145,
     "metadata": {},
     "output_type": "execute_result"
    }
   ],
   "source": [
    "arr1"
   ]
  },
  {
   "cell_type": "code",
   "execution_count": 147,
   "id": "b53a614d-e8f0-4e8a-b1ea-da9880b8ba9e",
   "metadata": {},
   "outputs": [
    {
     "data": {
      "text/plain": [
       "array([[ 4,  4, 64, 25, 64],\n",
       "       [36, 36, 64,  1, 81],\n",
       "       [16,  9,  9, 16,  4],\n",
       "       [81,  4, 36,  4, 64],\n",
       "       [36, 49, 49,  9, 16]])"
      ]
     },
     "execution_count": 147,
     "metadata": {},
     "output_type": "execute_result"
    }
   ],
   "source": [
    "arr1 * arr1"
   ]
  },
  {
   "cell_type": "code",
   "execution_count": 148,
   "id": "051854cb-9270-49e1-91e1-0722393d2231",
   "metadata": {},
   "outputs": [
    {
     "name": "stderr",
     "output_type": "stream",
     "text": [
      "C:\\Users\\77piy\\AppData\\Local\\Temp\\ipykernel_9636\\1510032488.py:1: RuntimeWarning: divide by zero encountered in divide\n",
      "  arr1/0\n"
     ]
    },
    {
     "data": {
      "text/plain": [
       "array([[inf, inf, inf, inf, inf],\n",
       "       [inf, inf, inf, inf, inf],\n",
       "       [inf, inf, inf, inf, inf],\n",
       "       [inf, inf, inf, inf, inf],\n",
       "       [inf, inf, inf, inf, inf]])"
      ]
     },
     "execution_count": 148,
     "metadata": {},
     "output_type": "execute_result"
    }
   ],
   "source": [
    "arr1/0"
   ]
  },
  {
   "cell_type": "code",
   "execution_count": 149,
   "id": "a7a07533-fdac-4804-8381-17eb1c6b87dc",
   "metadata": {},
   "outputs": [
    {
     "data": {
      "text/plain": [
       "array([[116, 145, 103, 178, 159],\n",
       "       [131, 155, 192, 172, 101],\n",
       "       [114, 166, 115, 165, 199],\n",
       "       [154, 184, 141, 156, 108],\n",
       "       [187, 101, 181, 146, 107]])"
      ]
     },
     "execution_count": 149,
     "metadata": {},
     "output_type": "execute_result"
    }
   ],
   "source": [
    "arr + 100"
   ]
  },
  {
   "cell_type": "code",
   "execution_count": 150,
   "id": "a2aedbfd-e0da-4b9d-a6be-d554b58f67bc",
   "metadata": {},
   "outputs": [
    {
     "data": {
      "text/plain": [
       "array([[ 4,  4, 64, 25, 64],\n",
       "       [36, 36, 64,  1, 81],\n",
       "       [16,  9,  9, 16,  4],\n",
       "       [81,  4, 36,  4, 64],\n",
       "       [36, 49, 49,  9, 16]])"
      ]
     },
     "execution_count": 150,
     "metadata": {},
     "output_type": "execute_result"
    }
   ],
   "source": [
    "arr1 ** 2"
   ]
  },
  {
   "cell_type": "code",
   "execution_count": 154,
   "id": "d7d2fdac-635c-48d4-a0c7-96e451ab9e90",
   "metadata": {},
   "outputs": [],
   "source": [
    "#Broadcasting = basically the add the array the array \n",
    "ar = np.zeros((4,4))"
   ]
  },
  {
   "cell_type": "raw",
   "id": "27c06922-9424-4e90-bbdc-f2b5a3bb9d95",
   "metadata": {},
   "source": [
    "ar"
   ]
  },
  {
   "cell_type": "code",
   "execution_count": 158,
   "id": "8823dde1-d8d2-4407-8175-98b42cadec47",
   "metadata": {},
   "outputs": [],
   "source": [
    "row = np.array([1,2,3,4])"
   ]
  },
  {
   "cell_type": "code",
   "execution_count": 159,
   "id": "1a7e45df-8f47-49d7-b4c4-19aa580c2dfd",
   "metadata": {},
   "outputs": [
    {
     "data": {
      "text/plain": [
       "array([[1., 2., 3., 4.],\n",
       "       [1., 2., 3., 4.],\n",
       "       [1., 2., 3., 4.],\n",
       "       [1., 2., 3., 4.]])"
      ]
     },
     "execution_count": 159,
     "metadata": {},
     "output_type": "execute_result"
    }
   ],
   "source": [
    "ar + row  "
   ]
  },
  {
   "cell_type": "code",
   "execution_count": 160,
   "id": "a484d365-60e3-4e4c-8d16-118eee2df183",
   "metadata": {},
   "outputs": [
    {
     "data": {
      "text/plain": [
       "1"
      ]
     },
     "execution_count": 160,
     "metadata": {},
     "output_type": "execute_result"
    }
   ],
   "source": [
    "row.ndim"
   ]
  },
  {
   "cell_type": "code",
   "execution_count": 161,
   "id": "fec2b2dc-0717-4f85-89db-e149c07d0505",
   "metadata": {},
   "outputs": [
    {
     "data": {
      "text/plain": [
       "array([1, 2, 3, 4])"
      ]
     },
     "execution_count": 161,
     "metadata": {},
     "output_type": "execute_result"
    }
   ],
   "source": [
    "row.T"
   ]
  },
  {
   "cell_type": "code",
   "execution_count": 162,
   "id": "6241a68e-e603-4825-ab1f-8a89db1a82ae",
   "metadata": {},
   "outputs": [],
   "source": [
    "col = np.array([[1,2,3,4]])"
   ]
  },
  {
   "cell_type": "code",
   "execution_count": 163,
   "id": "59a5bd74-7d7a-404b-af9a-c89e1b711697",
   "metadata": {},
   "outputs": [
    {
     "data": {
      "text/plain": [
       "array([[1, 2, 3, 4]])"
      ]
     },
     "execution_count": 163,
     "metadata": {},
     "output_type": "execute_result"
    }
   ],
   "source": [
    "col"
   ]
  },
  {
   "cell_type": "code",
   "execution_count": 165,
   "id": "5f4c9731-1f7e-472f-b7f4-37b29dc0f565",
   "metadata": {},
   "outputs": [
    {
     "data": {
      "text/plain": [
       "array([[1., 1., 1., 1.],\n",
       "       [2., 2., 2., 2.],\n",
       "       [3., 3., 3., 3.],\n",
       "       [4., 4., 4., 4.]])"
      ]
     },
     "execution_count": 165,
     "metadata": {},
     "output_type": "execute_result"
    }
   ],
   "source": [
    "col.T + arr"
   ]
  },
  {
   "cell_type": "code",
   "execution_count": null,
   "id": "f9cf2f1e-7288-40c3-b4ff-0f855e58da4a",
   "metadata": {},
   "outputs": [],
   "source": []
  }
 ],
 "metadata": {
  "kernelspec": {
   "display_name": "Python 3 (ipykernel)",
   "language": "python",
   "name": "python3"
  },
  "language_info": {
   "codemirror_mode": {
    "name": "ipython",
    "version": 3
   },
   "file_extension": ".py",
   "mimetype": "text/x-python",
   "name": "python",
   "nbconvert_exporter": "python",
   "pygments_lexer": "ipython3",
   "version": "3.11.4"
  }
 },
 "nbformat": 4,
 "nbformat_minor": 5
}
